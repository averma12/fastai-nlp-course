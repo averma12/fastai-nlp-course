{
  "nbformat": 4,
  "nbformat_minor": 0,
  "metadata": {
    "colab": {
      "name": "Pytorch_Language_Model_basics.ipynb",
      "provenance": [],
      "include_colab_link": true
    },
    "kernelspec": {
      "name": "python3",
      "display_name": "Python 3"
    },
    "accelerator": "GPU"
  },
  "cells": [
    {
      "cell_type": "markdown",
      "metadata": {
        "id": "view-in-github",
        "colab_type": "text"
      },
      "source": [
        "<a href=\"https://colab.research.google.com/github/averma12/fastai-nlp-course/blob/master/Pytorch_Language_Model_basics.ipynb\" target=\"_parent\"><img src=\"https://colab.research.google.com/assets/colab-badge.svg\" alt=\"Open In Colab\"/></a>"
      ]
    },
    {
      "cell_type": "code",
      "metadata": {
        "id": "6LoIw1DvGCxk",
        "colab_type": "code",
        "colab": {}
      },
      "source": [
        "import numpy as np\n",
        "import torch\n",
        "from torch import nn\n",
        "import torch.nn.functional as F"
      ],
      "execution_count": 0,
      "outputs": []
    },
    {
      "cell_type": "code",
      "metadata": {
        "id": "QSVCtJeJ1I2d",
        "colab_type": "code",
        "colab": {}
      },
      "source": [
        "a = np.array([[1,2,3,4], [5,6,7,8], [9,10,11,12]])"
      ],
      "execution_count": 0,
      "outputs": []
    },
    {
      "cell_type": "code",
      "metadata": {
        "id": "or12pQ5g1NQ2",
        "colab_type": "code",
        "colab": {}
      },
      "source": [
        "b = a[:, :-1]"
      ],
      "execution_count": 0,
      "outputs": []
    },
    {
      "cell_type": "code",
      "metadata": {
        "id": "fQhhszpQ1S1E",
        "colab_type": "code",
        "colab": {
          "base_uri": "https://localhost:8080/",
          "height": 34
        },
        "outputId": "35a5edd8-233d-472a-adfa-29db7df9d219"
      },
      "source": [
        "a[:,-1]"
      ],
      "execution_count": 28,
      "outputs": [
        {
          "output_type": "execute_result",
          "data": {
            "text/plain": [
              "array([ 4,  8, 12])"
            ]
          },
          "metadata": {
            "tags": []
          },
          "execution_count": 28
        }
      ]
    },
    {
      "cell_type": "code",
      "metadata": {
        "id": "pFPAhBZsGgOT",
        "colab_type": "code",
        "colab": {}
      },
      "source": [
        "text = \"\"\"Manakamana doesn't answer any questions, yet makes its point: Nepal, like the rest of our planet, is a picturesque but far from peaceable kingdom.\"\"\""
      ],
      "execution_count": 0,
      "outputs": []
    },
    {
      "cell_type": "code",
      "metadata": {
        "id": "MC-qWxcbGmSL",
        "colab_type": "code",
        "colab": {}
      },
      "source": [
        "chars = tuple(set(text))"
      ],
      "execution_count": 0,
      "outputs": []
    },
    {
      "cell_type": "code",
      "metadata": {
        "id": "bVqtS7jaGng-",
        "colab_type": "code",
        "colab": {
          "base_uri": "https://localhost:8080/",
          "height": 510
        },
        "outputId": "725fdfe7-8af7-46ed-fadf-85707737c53d"
      },
      "source": [
        "chars"
      ],
      "execution_count": 31,
      "outputs": [
        {
          "output_type": "execute_result",
          "data": {
            "text/plain": [
              "('p',\n",
              " 'k',\n",
              " '.',\n",
              " ',',\n",
              " 'c',\n",
              " 'm',\n",
              " 'a',\n",
              " 'o',\n",
              " 'q',\n",
              " 'i',\n",
              " 'e',\n",
              " 'g',\n",
              " 'r',\n",
              " 'f',\n",
              " 'w',\n",
              " 't',\n",
              " ' ',\n",
              " ':',\n",
              " 'M',\n",
              " 'h',\n",
              " 'N',\n",
              " 's',\n",
              " 'y',\n",
              " 'l',\n",
              " 'b',\n",
              " 'd',\n",
              " \"'\",\n",
              " 'n',\n",
              " 'u')"
            ]
          },
          "metadata": {
            "tags": []
          },
          "execution_count": 31
        }
      ]
    },
    {
      "cell_type": "code",
      "metadata": {
        "id": "Haz1KoI-GwYl",
        "colab_type": "code",
        "colab": {}
      },
      "source": [
        "int2char = dict(enumerate(chars))"
      ],
      "execution_count": 0,
      "outputs": []
    },
    {
      "cell_type": "code",
      "metadata": {
        "id": "UanTJLWCGxt-",
        "colab_type": "code",
        "colab": {}
      },
      "source": [
        "char2int = {ch: ii for ii, ch in int2char.items()}"
      ],
      "execution_count": 0,
      "outputs": []
    },
    {
      "cell_type": "code",
      "metadata": {
        "id": "d3tjnZy-G8tV",
        "colab_type": "code",
        "colab": {}
      },
      "source": [
        "encoded = np.array([char2int[ch] for ch in text])"
      ],
      "execution_count": 0,
      "outputs": []
    },
    {
      "cell_type": "code",
      "metadata": {
        "id": "GJI4nJzeG98q",
        "colab_type": "code",
        "colab": {
          "base_uri": "https://localhost:8080/",
          "height": 34
        },
        "outputId": "da04f0e6-c145-4d48-9c08-061a16c2d74d"
      },
      "source": [
        "len(encoded)"
      ],
      "execution_count": 35,
      "outputs": [
        {
          "output_type": "execute_result",
          "data": {
            "text/plain": [
              "146"
            ]
          },
          "metadata": {
            "tags": []
          },
          "execution_count": 35
        }
      ]
    },
    {
      "cell_type": "code",
      "metadata": {
        "id": "i_MP2S46IIbD",
        "colab_type": "code",
        "colab": {
          "base_uri": "https://localhost:8080/",
          "height": 34
        },
        "outputId": "898753dd-4746-4205-a708-a4de6d3c38ed"
      },
      "source": [
        "np.array([1,2,3]).flatten()"
      ],
      "execution_count": 36,
      "outputs": [
        {
          "output_type": "execute_result",
          "data": {
            "text/plain": [
              "array([1, 2, 3])"
            ]
          },
          "metadata": {
            "tags": []
          },
          "execution_count": 36
        }
      ]
    },
    {
      "cell_type": "code",
      "metadata": {
        "id": "ykv0satwIT7a",
        "colab_type": "code",
        "colab": {
          "base_uri": "https://localhost:8080/",
          "height": 34
        },
        "outputId": "38b905c5-d440-4273-a3f3-7a384df8e78f"
      },
      "source": [
        "np.arange(8)"
      ],
      "execution_count": 37,
      "outputs": [
        {
          "output_type": "execute_result",
          "data": {
            "text/plain": [
              "array([0, 1, 2, 3, 4, 5, 6, 7])"
            ]
          },
          "metadata": {
            "tags": []
          },
          "execution_count": 37
        }
      ]
    },
    {
      "cell_type": "code",
      "metadata": {
        "id": "PY6tyvukIZAA",
        "colab_type": "code",
        "colab": {}
      },
      "source": [
        "def one_hot_encode(arr, n_labels):\n",
        "    \n",
        "    # Initialize the the encoded array\n",
        "    one_hot = np.zeros((arr.size, n_labels), dtype=np.float32)\n",
        "    \n",
        "    # Fill the appropriate elements with ones\n",
        "    one_hot[np.arange(one_hot.shape[0]), arr.flatten()] = 1.\n",
        "    \n",
        "    # Finally reshape it to get back to the original array\n",
        "    one_hot = one_hot.reshape((*arr.shape, n_labels))\n",
        "    \n",
        "    return one_hot"
      ],
      "execution_count": 0,
      "outputs": []
    },
    {
      "cell_type": "code",
      "metadata": {
        "id": "cWP8yMURIc-3",
        "colab_type": "code",
        "colab": {
          "base_uri": "https://localhost:8080/",
          "height": 68
        },
        "outputId": "11eb7cf4-e88f-4b48-9244-5458782e0320"
      },
      "source": [
        "test_seq = np.array([[3, 5, 1]])\n",
        "one_hot = one_hot_encode(test_seq, 8)\n",
        "\n",
        "print(one_hot)"
      ],
      "execution_count": 39,
      "outputs": [
        {
          "output_type": "stream",
          "text": [
            "[[[0. 0. 0. 1. 0. 0. 0. 0.]\n",
            "  [0. 0. 0. 0. 0. 1. 0. 0.]\n",
            "  [0. 1. 0. 0. 0. 0. 0. 0.]]]\n"
          ],
          "name": "stdout"
        }
      ]
    },
    {
      "cell_type": "code",
      "metadata": {
        "id": "kEKan6pZ2f20",
        "colab_type": "code",
        "colab": {}
      },
      "source": [
        ""
      ],
      "execution_count": 0,
      "outputs": []
    },
    {
      "cell_type": "code",
      "metadata": {
        "id": "0bw6T5Um-8DB",
        "colab_type": "code",
        "colab": {}
      },
      "source": [
        "bs = 10\n",
        "seq_len = 16"
      ],
      "execution_count": 0,
      "outputs": []
    },
    {
      "cell_type": "code",
      "metadata": {
        "id": "9AmmYeWd_Eh9",
        "colab_type": "code",
        "colab": {}
      },
      "source": [
        "batches = np.array([encoded[i*seq_len:(i+1)*seq_len] for i in range(bs)])"
      ],
      "execution_count": 0,
      "outputs": []
    },
    {
      "cell_type": "code",
      "metadata": {
        "id": "h6IAWNp7E2ng",
        "colab_type": "code",
        "colab": {
          "base_uri": "https://localhost:8080/",
          "height": 187
        },
        "outputId": "72ef522e-7527-43ca-feb9-3a8e151d0c57"
      },
      "source": [
        "batches"
      ],
      "execution_count": 42,
      "outputs": [
        {
          "output_type": "execute_result",
          "data": {
            "text/plain": [
              "array([array([18,  6, 27,  6,  1,  6,  5,  6, 27,  6, 16, 25,  7, 10, 21, 27]),\n",
              "       array([26, 15, 16,  6, 27, 21, 14, 10, 12, 16,  6, 27, 22, 16,  8, 28]),\n",
              "       array([10, 21, 15,  9,  7, 27, 21,  3, 16, 22, 10, 15, 16,  5,  6,  1]),\n",
              "       array([10, 21, 16,  9, 15, 21, 16,  0,  7,  9, 27, 15, 17, 16, 20, 10]),\n",
              "       array([ 0,  6, 23,  3, 16, 23,  9,  1, 10, 16, 15, 19, 10, 16, 12, 10]),\n",
              "       array([21, 15, 16,  7, 13, 16,  7, 28, 12, 16,  0, 23,  6, 27, 10, 15]),\n",
              "       array([ 3, 16,  9, 21, 16,  6, 16,  0,  9,  4, 15, 28, 12, 10, 21,  8]),\n",
              "       array([28, 10, 16, 24, 28, 15, 16, 13,  6, 12, 16, 13, 12,  7,  5, 16]),\n",
              "       array([ 0, 10,  6,  4, 10,  6, 24, 23, 10, 16,  1,  9, 27, 11, 25,  7]),\n",
              "       array([5, 2])], dtype=object)"
            ]
          },
          "metadata": {
            "tags": []
          },
          "execution_count": 42
        }
      ]
    },
    {
      "cell_type": "code",
      "metadata": {
        "id": "Ik3FMIvSFiAr",
        "colab_type": "code",
        "colab": {}
      },
      "source": [
        "bptt = 4"
      ],
      "execution_count": 0,
      "outputs": []
    },
    {
      "cell_type": "code",
      "metadata": {
        "id": "4N_kqevSGKfG",
        "colab_type": "code",
        "colab": {}
      },
      "source": [
        "import pandas as pd\n",
        "from IPython.display import display,HTML"
      ],
      "execution_count": 0,
      "outputs": []
    },
    {
      "cell_type": "code",
      "metadata": {
        "id": "9npkUZcmFvAP",
        "colab_type": "code",
        "colab": {
          "base_uri": "https://localhost:8080/",
          "height": 1000
        },
        "outputId": "18b54293-da64-4fed-a348-9ee771fdf151"
      },
      "source": [
        "for k in range(seq_len//bptt):\n",
        "    d_tokens = np.array([encoded[i*seq_len + k*bptt:i*seq_len + (k+1)*bptt] for i in range(bs)])\n",
        "    df = pd.DataFrame(d_tokens)\n",
        "    display(HTML(df.to_html(index=False,header=None)))\n",
        "    "
      ],
      "execution_count": 45,
      "outputs": [
        {
          "output_type": "display_data",
          "data": {
            "text/html": [
              "<table border=\"1\" class=\"dataframe\">\n",
              "  <tbody>\n",
              "    <tr>\n",
              "      <td>[18, 6, 27, 6]</td>\n",
              "    </tr>\n",
              "    <tr>\n",
              "      <td>[26, 15, 16, 6]</td>\n",
              "    </tr>\n",
              "    <tr>\n",
              "      <td>[10, 21, 15, 9]</td>\n",
              "    </tr>\n",
              "    <tr>\n",
              "      <td>[10, 21, 16, 9]</td>\n",
              "    </tr>\n",
              "    <tr>\n",
              "      <td>[0, 6, 23, 3]</td>\n",
              "    </tr>\n",
              "    <tr>\n",
              "      <td>[21, 15, 16, 7]</td>\n",
              "    </tr>\n",
              "    <tr>\n",
              "      <td>[3, 16, 9, 21]</td>\n",
              "    </tr>\n",
              "    <tr>\n",
              "      <td>[28, 10, 16, 24]</td>\n",
              "    </tr>\n",
              "    <tr>\n",
              "      <td>[0, 10, 6, 4]</td>\n",
              "    </tr>\n",
              "    <tr>\n",
              "      <td>[5, 2]</td>\n",
              "    </tr>\n",
              "  </tbody>\n",
              "</table>"
            ],
            "text/plain": [
              "<IPython.core.display.HTML object>"
            ]
          },
          "metadata": {
            "tags": []
          }
        },
        {
          "output_type": "display_data",
          "data": {
            "text/html": [
              "<table border=\"1\" class=\"dataframe\">\n",
              "  <tbody>\n",
              "    <tr>\n",
              "      <td>[1, 6, 5, 6]</td>\n",
              "    </tr>\n",
              "    <tr>\n",
              "      <td>[27, 21, 14, 10]</td>\n",
              "    </tr>\n",
              "    <tr>\n",
              "      <td>[7, 27, 21, 3]</td>\n",
              "    </tr>\n",
              "    <tr>\n",
              "      <td>[15, 21, 16, 0]</td>\n",
              "    </tr>\n",
              "    <tr>\n",
              "      <td>[16, 23, 9, 1]</td>\n",
              "    </tr>\n",
              "    <tr>\n",
              "      <td>[13, 16, 7, 28]</td>\n",
              "    </tr>\n",
              "    <tr>\n",
              "      <td>[16, 6, 16, 0]</td>\n",
              "    </tr>\n",
              "    <tr>\n",
              "      <td>[28, 15, 16, 13]</td>\n",
              "    </tr>\n",
              "    <tr>\n",
              "      <td>[10, 6, 24, 23]</td>\n",
              "    </tr>\n",
              "    <tr>\n",
              "      <td>[]</td>\n",
              "    </tr>\n",
              "  </tbody>\n",
              "</table>"
            ],
            "text/plain": [
              "<IPython.core.display.HTML object>"
            ]
          },
          "metadata": {
            "tags": []
          }
        },
        {
          "output_type": "display_data",
          "data": {
            "text/html": [
              "<table border=\"1\" class=\"dataframe\">\n",
              "  <tbody>\n",
              "    <tr>\n",
              "      <td>[27, 6, 16, 25]</td>\n",
              "    </tr>\n",
              "    <tr>\n",
              "      <td>[12, 16, 6, 27]</td>\n",
              "    </tr>\n",
              "    <tr>\n",
              "      <td>[16, 22, 10, 15]</td>\n",
              "    </tr>\n",
              "    <tr>\n",
              "      <td>[7, 9, 27, 15]</td>\n",
              "    </tr>\n",
              "    <tr>\n",
              "      <td>[10, 16, 15, 19]</td>\n",
              "    </tr>\n",
              "    <tr>\n",
              "      <td>[12, 16, 0, 23]</td>\n",
              "    </tr>\n",
              "    <tr>\n",
              "      <td>[9, 4, 15, 28]</td>\n",
              "    </tr>\n",
              "    <tr>\n",
              "      <td>[6, 12, 16, 13]</td>\n",
              "    </tr>\n",
              "    <tr>\n",
              "      <td>[10, 16, 1, 9]</td>\n",
              "    </tr>\n",
              "    <tr>\n",
              "      <td>[]</td>\n",
              "    </tr>\n",
              "  </tbody>\n",
              "</table>"
            ],
            "text/plain": [
              "<IPython.core.display.HTML object>"
            ]
          },
          "metadata": {
            "tags": []
          }
        },
        {
          "output_type": "display_data",
          "data": {
            "text/html": [
              "<table border=\"1\" class=\"dataframe\">\n",
              "  <tbody>\n",
              "    <tr>\n",
              "      <td>[7, 10, 21, 27]</td>\n",
              "    </tr>\n",
              "    <tr>\n",
              "      <td>[22, 16, 8, 28]</td>\n",
              "    </tr>\n",
              "    <tr>\n",
              "      <td>[16, 5, 6, 1]</td>\n",
              "    </tr>\n",
              "    <tr>\n",
              "      <td>[17, 16, 20, 10]</td>\n",
              "    </tr>\n",
              "    <tr>\n",
              "      <td>[10, 16, 12, 10]</td>\n",
              "    </tr>\n",
              "    <tr>\n",
              "      <td>[6, 27, 10, 15]</td>\n",
              "    </tr>\n",
              "    <tr>\n",
              "      <td>[12, 10, 21, 8]</td>\n",
              "    </tr>\n",
              "    <tr>\n",
              "      <td>[12, 7, 5, 16]</td>\n",
              "    </tr>\n",
              "    <tr>\n",
              "      <td>[27, 11, 25, 7]</td>\n",
              "    </tr>\n",
              "    <tr>\n",
              "      <td>[]</td>\n",
              "    </tr>\n",
              "  </tbody>\n",
              "</table>"
            ],
            "text/plain": [
              "<IPython.core.display.HTML object>"
            ]
          },
          "metadata": {
            "tags": []
          }
        }
      ]
    },
    {
      "cell_type": "code",
      "metadata": {
        "id": "__EExbD8HRYt",
        "colab_type": "code",
        "colab": {
          "base_uri": "https://localhost:8080/",
          "height": 34
        },
        "outputId": "b890b8fc-94bb-427b-faea-69dac747f078"
      },
      "source": [
        "train_on_gpu = torch.cuda.is_available()\n",
        "if(train_on_gpu):\n",
        "    print('Training on GPU!')\n",
        "else: \n",
        "    print('No GPU available, training on CPU; consider making n_epochs very small.')"
      ],
      "execution_count": 14,
      "outputs": [
        {
          "output_type": "stream",
          "text": [
            "Training on GPU!\n"
          ],
          "name": "stdout"
        }
      ]
    },
    {
      "cell_type": "code",
      "metadata": {
        "id": "8SMCbsgqZ4LD",
        "colab_type": "code",
        "colab": {
          "base_uri": "https://localhost:8080/",
          "height": 34
        },
        "outputId": "bdeaefb8-ee11-4b2b-efc0-5ee428d88685"
      },
      "source": [
        "len(encoded)//160"
      ],
      "execution_count": 16,
      "outputs": [
        {
          "output_type": "execute_result",
          "data": {
            "text/plain": [
              "0"
            ]
          },
          "metadata": {
            "tags": []
          },
          "execution_count": 16
        }
      ]
    },
    {
      "cell_type": "code",
      "metadata": {
        "id": "fF0frDM0adUu",
        "colab_type": "code",
        "colab": {}
      },
      "source": [
        "encoded_trunc = encoded[:100]"
      ],
      "execution_count": 0,
      "outputs": []
    },
    {
      "cell_type": "code",
      "metadata": {
        "id": "gd0XPp0QazaK",
        "colab_type": "code",
        "colab": {}
      },
      "source": [
        "encoded_trunc = encoded_trunc.reshape(10,-1)"
      ],
      "execution_count": 0,
      "outputs": []
    },
    {
      "cell_type": "code",
      "metadata": {
        "id": "n04LW_iybOJ3",
        "colab_type": "code",
        "colab": {
          "base_uri": "https://localhost:8080/",
          "height": 34
        },
        "outputId": "a1af341d-6f3f-4e1f-bf0d-cc1c1d0f15e2"
      },
      "source": [
        "encoded_trunc.shape[1]"
      ],
      "execution_count": 24,
      "outputs": [
        {
          "output_type": "execute_result",
          "data": {
            "text/plain": [
              "10"
            ]
          },
          "metadata": {
            "tags": []
          },
          "execution_count": 24
        }
      ]
    }
  ]
}